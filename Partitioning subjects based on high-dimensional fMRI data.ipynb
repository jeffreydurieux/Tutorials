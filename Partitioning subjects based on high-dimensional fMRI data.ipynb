{
 "cells": [
  {
   "cell_type": "markdown",
   "metadata": {},
   "source": [
    "# Partitioning subjects based on high-dimensional fMRI data\n",
    "\n",
    "This Jupyter notebook contains a short tutorial on how to use the two step procedure\n",
    "Please see my [paper](https://link.springer.com/article/10.1007/s41237-019-00086-4) for more information"
   ]
  },
  {
   "cell_type": "markdown",
   "metadata": {},
   "source": [
    "## First download some functions\n",
    "In order to use the two-step procedure you need two functions that can be downloaded from my [GitHub page]():\n",
    "- modRV: this is a python function to calculate the modified-RV coefficient for two matrices\n",
    "- computeRVmat: this python function computes $N \\times N$ similarity matrix with RV coefficients between all subject pairs"
   ]
  },
  {
   "cell_type": "code",
   "execution_count": 11,
   "metadata": {},
   "outputs": [
    {
     "data": {
      "text/plain": [
       "array([[0.74652914]])"
      ]
     },
     "execution_count": 11,
     "metadata": {},
     "output_type": "execute_result"
    }
   ],
   "source": [
    "import numpy as np\n",
    "from modRV import modRV\n",
    "\n",
    "X = np.random.random_sample((100,2))\n",
    "Y = np.random.random_sample((100,2))\n",
    "\n",
    "modRV(X, Y)"
   ]
  }
 ],
 "metadata": {
  "kernelspec": {
   "display_name": "Python 3",
   "language": "python",
   "name": "python3"
  },
  "language_info": {
   "codemirror_mode": {
    "name": "ipython",
    "version": 3
   },
   "file_extension": ".py",
   "mimetype": "text/x-python",
   "name": "python",
   "nbconvert_exporter": "python",
   "pygments_lexer": "ipython3",
   "version": "3.6.5"
  }
 },
 "nbformat": 4,
 "nbformat_minor": 2
}
